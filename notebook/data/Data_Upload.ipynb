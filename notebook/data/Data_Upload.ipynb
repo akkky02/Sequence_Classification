{
 "cells": [
  {
   "cell_type": "code",
   "execution_count": 23,
   "metadata": {},
   "outputs": [],
   "source": [
    "import os\n",
    "from huggingface_hub import upload_folder,create_repo,move_repo,delete_repo,hf_hub_download,\n",
    "from dotenv import load_dotenv, find_dotenv\n",
    "load_dotenv(find_dotenv())\n",
    "\n",
    "HF_TOKEN = os.getenv(\"HF_TOKEN\")"
   ]
  },
  {
   "cell_type": "code",
   "execution_count": 2,
   "metadata": {},
   "outputs": [
    {
     "data": {
      "text/plain": [
       "'MAdAiLab/SLM_vs_LLM_experiments/max_seq_length_512_experiments/LoRA/Qwen/Qwen1.5_7B_LoRA_MAdAiLab/amazon_attrprompt_default/checkpoint-550'"
      ]
     },
     "execution_count": 2,
     "metadata": {},
     "output_type": "execute_result"
    }
   ],
   "source": [
    "from huggingface_hub import HfFileSystem\n",
    "fs = HfFileSystem()\n",
    "\n",
    "model_list = fs.ls(\"MAdAiLab/SLM_vs_LLM_experiments/max_seq_length_512_experiments/LoRA/Qwen/Qwen1.5_7B_LoRA_MAdAiLab/amazon_attrprompt_default\")\n",
    "model_list[0]['name']"
   ]
  },
  {
   "cell_type": "code",
   "execution_count": 4,
   "metadata": {},
   "outputs": [],
   "source": [
    "fs.download(\n",
    "    rpath=\"MAdAiLab/SLM_vs_LLM_experiments/max_seq_length_512_experiments/LoRA/mistralai/Mistral_7B_v0.1_LoRA_coastalcph/lex_glue_scotus\",\n",
    "    lpath=\".\",\n",
    "    recursive=True,\n",
    ")"
   ]
  },
  {
   "cell_type": "code",
   "execution_count": 20,
   "metadata": {},
   "outputs": [
    {
     "data": {
      "text/plain": [
       "[{'name': 'MAdAiLab/SLM_vs_LLM_experiments/max_seq_length_512_experiments/LoRA/Qwen/Qwen1.5_7B_LoRA_MAdAiLab/amazon_attrprompt_default',\n",
       "  'size': 0,\n",
       "  'type': 'directory',\n",
       "  'tree_id': '5abff86fb50c77d045f4d71c8fe1c8934c308d01',\n",
       "  'last_commit': LastCommitInfo(oid='1bd01ae7467256b473da20098bb592a61ac618a4', title='Upload folder using huggingface_hub', date=datetime.datetime(2024, 4, 7, 21, 53, 21, tzinfo=datetime.timezone.utc))},\n",
       " {'name': 'MAdAiLab/SLM_vs_LLM_experiments/max_seq_length_512_experiments/LoRA/Qwen/Qwen1.5_7B_LoRA_MAdAiLab/twitter_disaster_default',\n",
       "  'size': 0,\n",
       "  'type': 'directory',\n",
       "  'tree_id': '2b97a36cfeffc7cbf3ab60d2028025bf082937f3',\n",
       "  'last_commit': LastCommitInfo(oid='1bd01ae7467256b473da20098bb592a61ac618a4', title='Upload folder using huggingface_hub', date=datetime.datetime(2024, 4, 7, 21, 53, 21, tzinfo=datetime.timezone.utc))}]"
      ]
     },
     "execution_count": 20,
     "metadata": {},
     "output_type": "execute_result"
    }
   ],
   "source": [
    "for file in model_list:\n",
    "    hf_hub_download\n",
    "\n",
    "\n",
    "hf_hub_download(\n",
    "    repo_id=,\n",
    "    subfolder=\n",
    ")"
   ]
  },
  {
   "cell_type": "code",
   "execution_count": null,
   "metadata": {},
   "outputs": [],
   "source": [
    "hf_hub_download(\n",
    "    repo_id=\"MAdAiLab/SLM_vs_LLM_experiments\",\n",
    "    filename=\"max_seq_length_128_experiments/LoRA/*\",\n",
    ")"
   ]
  },
  {
   "cell_type": "code",
   "execution_count": null,
   "metadata": {},
   "outputs": [],
   "source": [
    "create_repo(\n",
    "    repo_id=\"MAdAiLab/SLM_vs_LLM_experiments\",\n",
    ")"
   ]
  },
  {
   "cell_type": "code",
   "execution_count": null,
   "metadata": {},
   "outputs": [],
   "source": [
    "upload_folder(\n",
    "    folder_path=\"../experiments_checkpoints/LoRA\",\n",
    "    repo_id=\"MAdAiLab/SLM_vs_LLM_experiments\",\n",
    "    path_in_repo=\"/max_seq_length_512_experiments/LoRA\"\n",
    "    )"
   ]
  },
  {
   "cell_type": "code",
   "execution_count": null,
   "metadata": {},
   "outputs": [],
   "source": [
    "upload_folder(\n",
    "    folder_path=\"../experiments_checkpoints/MAdAiLab/Qwen/Qwen1.5_1.8B_ledgar\",\n",
    "    repo_id=\"MAdAiLab/SLM_vs_LLM_experiments\",\n",
    "    path_in_repo=\"/Qwen/Qwen1.5_1.8B_ledgar\"\n",
    "    )"
   ]
  },
  {
   "cell_type": "code",
   "execution_count": null,
   "metadata": {},
   "outputs": [],
   "source": [
    "upload_folder(\n",
    "    folder_path=\"MAdAiLab/SLM_vs_LLM_experiments/microsoft\",\n",
    "    repo_id=\"MAdAiLab/SLM_vs_LLM_experiments\",\n",
    "    path_in_repo=\"/max_seq_length_128_experiments/microsoft\"\n",
    "    )"
   ]
  },
  {
   "cell_type": "code",
   "execution_count": null,
   "metadata": {},
   "outputs": [],
   "source": [
    "move_repo(\n",
    "    from_id=\"MAdAiLab/SLM_vs_LLM_experiments/microsoft\",\n",
    "    to_id=\"MAdAiLab/SLM_vs_LLM_experiments/max_seq_length_128_experiments/microsoft\"\n",
    ")"
   ]
  },
  {
   "cell_type": "code",
   "execution_count": 6,
   "metadata": {},
   "outputs": [
    {
     "name": "stdout",
     "output_type": "stream",
     "text": [
      "MAdAiLab/llama2_7b_base_adapter\n",
      "MAdAiLab/llama2_7b_base_adapter_merged_final\n",
      "MAdAiLab/llama2_7b_bf16_adapter\n",
      "MAdAiLab/llama2_7b_bf16_adapter_merged_final\n",
      "MAdAiLab/llama2_7b_chat_adapter\n",
      "MAdAiLab/llama2_7b_chat_adapter_merged_final\n",
      "MAdAiLab/llama2_7b_nf4_adapter\n",
      "MAdAiLab/llama2_7b_nf4_adapter_merged_final\n",
      "MAdAiLab/llama2_7b_fp4_adapter\n",
      "MAdAiLab/llama2_7b_fp4_adapter_merged_final\n",
      "MAdAiLab/llama2_7b_AdamW_Cosine\n",
      "MAdAiLab/llama2_7b_SGD_Cosine\n",
      "MAdAiLab/llama2_7b_AdamW_Cosine_merged_final\n",
      "MAdAiLab/llama2_7b_SGD_Cosine_merged_final\n",
      "MAdAiLab/llama2_7b_full_qlora\n",
      "MAdAiLab/llama2_7b_r16_alpha16\n",
      "MAdAiLab/llama2_7b_r16_alpha32\n",
      "MAdAiLab/llama2_7b_r32_alpha64\n",
      "MAdAiLab/llama2_7b_r32_alpha64_merged_final\n",
      "MAdAiLab/llama2_7b_r16_alpha16_merged_final\n",
      "MAdAiLab/llama2_7b_r16_alpha32_merged_final\n",
      "MAdAiLab/llama2_7b_r128_alpha256\n",
      "MAdAiLab/llama2_7b_full_qlora_merged_final\n",
      "MAdAiLab/llama2_7b_r256_alpha1024\n",
      "MAdAiLab/llama2_7b_r128_alpha256_merged_final\n",
      "MAdAiLab/llama2_7b_lora_r_alpha_16\n",
      "MAdAiLab/llama2_7b_lora_r_alpha_16_merged_final\n",
      "MAdAiLab/llama2_7b_r256_alpha1024_merged_final\n",
      "MAdAiLab/llama2_7b_lora_r16_alpha32\n",
      "MAdAiLab/llama2_7b_lora_r16_alpha32_merged_final\n",
      "MAdAiLab/llama2_7b_r32_alpha1\n",
      "MAdAiLab/llama2_7b_r128_alpha1\n",
      "MAdAiLab/llama2_7b_r256_alpha256\n",
      "MAdAiLab/llama2_7b_r128_alpha1_merged_final\n",
      "MAdAiLab/llama2_7b_r256_alpha256_merged_final\n",
      "MAdAiLab/llama2_7b_r32_alpha1_merged_final\n",
      "MAdAiLab/SLM_vs_LLM_experiments\n",
      "MAdAiLab/Llama2_Instruction_Finetuning_Experiments\n"
     ]
    }
   ],
   "source": [
    "from huggingface_hub import HfApi\n",
    "\n",
    "api = HfApi()\n",
    "models = list(api.list_models(author=\"MAdAiLab\"))\n",
    "\n",
    "for model in models:\n",
    "    print(model.id)"
   ]
  },
  {
   "cell_type": "markdown",
   "metadata": {},
   "source": [
    "MAdAiLab/roberta-base_patent\n",
    "MAdAiLab/distilroberta-base_patent\n",
    "MAdAiLab/bert-base-uncased_patent\n",
    "MAdAiLab/flan-t5-base_patent\n",
    "MAdAiLab/flan-t5-small_patent\n",
    "MAdAiLab/bert-base-uncased_twitter\n",
    "MAdAiLab/distilbert-base-uncased_twitter\n",
    "MAdAiLab/roberta-base_twitter\n",
    "MAdAiLab/distilroberta-base\n",
    "MAdAiLab/distilroberta-base_twitter\n",
    "MAdAiLab/flan-t5-small_twitter\n",
    "MAdAiLab/flan-t5-base_twitter\n",
    "MAdAiLab/bert-base-uncased_amazon\n",
    "MAdAiLab/distilbert-base-uncased_patent\n",
    "MAdAiLab/distilbert-base-uncased_amazon\n",
    "MAdAiLab/roberta-base_amazon\n",
    "MAdAiLab/distilroberta-base_amazon\n",
    "MAdAiLab/flan-t5-base_amazon\n",
    "MAdAiLab/flan-t5-small_amazon\n",
    "MAdAiLab/t5-base_twitter\n",
    "MAdAiLab/bert-base-uncased_scotus\n",
    "MAdAiLab/distilbert-base-uncased_scotus\n",
    "MAdAiLab/roberta-base_scotus\n",
    "MAdAiLab/distilroberta-base_scotus\n",
    "MAdAiLab/bert-base-uncased_ledgar\n",
    "MAdAiLab/distilbert-base-uncased_ledgar\n",
    "MAdAiLab/roberta-base_ledgar\n",
    "MAdAiLab/distilroberta-base_ledgar\n",
    "MAdAiLab/flan-t5-base_ledgar\n",
    "MAdAiLab/flan-t5-small_ledgar"
   ]
  },
  {
   "cell_type": "code",
   "execution_count": 9,
   "metadata": {},
   "outputs": [
    {
     "name": "stdout",
     "output_type": "stream",
     "text": [
      "/home/harpreet_guest2/akshat/Sequence_Classification/notebook\n"
     ]
    },
    {
     "name": "stderr",
     "output_type": "stream",
     "text": [
      "/home/harpreet_guest2/akshat/Sequence_Classification/venv/lib/python3.10/site-packages/IPython/core/magics/osm.py:417: UserWarning: This is now an optional IPython functionality, setting dhist requires you to install the `pickleshare` library.\n",
      "  self.shell.db['dhist'] = compress_dhist(dhist)[-100:]\n"
     ]
    }
   ],
   "source": [
    "cd notebook/"
   ]
  },
  {
   "cell_type": "code",
   "execution_count": 11,
   "metadata": {},
   "outputs": [
    {
     "name": "stdout",
     "output_type": "stream",
     "text": [
      "Cloning into 'llama2_7b_base_adapter'...\n",
      "remote: Enumerating objects: 76, done.\u001b[K\n",
      "remote: Counting objects: 100% (73/73), done.\u001b[K\n",
      "remote: Compressing objects: 100% (73/73), done.\u001b[K\n",
      "remote: Total 76 (delta 18), reused 0 (delta 0), pack-reused 3\u001b[K\n",
      "Unpacking objects: 100% (76/76), 27.43 KiB | 2.11 MiB/s, done.\n",
      "Filtering content: 100% (17/17), 80.25 MiB | 74.64 MiB/s, done.\n"
     ]
    }
   ],
   "source": [
    "!git clone https://huggingface.co/MAdAiLab/llama2_7b_base_adapter"
   ]
  },
  {
   "cell_type": "code",
   "execution_count": 12,
   "metadata": {},
   "outputs": [
    {
     "data": {
      "application/vnd.jupyter.widget-view+json": {
       "model_id": "2513b46043344a06a856ecf43d505648",
       "version_major": 2,
       "version_minor": 0
      },
      "text/plain": [
       "adapter_model.safetensors:   0%|          | 0.00/8.40M [00:00<?, ?B/s]"
      ]
     },
     "metadata": {},
     "output_type": "display_data"
    },
    {
     "data": {
      "application/vnd.jupyter.widget-view+json": {
       "model_id": "8de673709fc749f79a9b0cc6c4006f00",
       "version_major": 2,
       "version_minor": 0
      },
      "text/plain": [
       "scheduler.pt:   0%|          | 0.00/1.06k [00:00<?, ?B/s]"
      ]
     },
     "metadata": {},
     "output_type": "display_data"
    },
    {
     "data": {
      "application/vnd.jupyter.widget-view+json": {
       "model_id": "9e4f1126feec4880aea4864a3d461221",
       "version_major": 2,
       "version_minor": 0
      },
      "text/plain": [
       "rng_state.pth:   0%|          | 0.00/14.2k [00:00<?, ?B/s]"
      ]
     },
     "metadata": {},
     "output_type": "display_data"
    },
    {
     "data": {
      "application/vnd.jupyter.widget-view+json": {
       "model_id": "53b635dee04d4e12b0aedf8cb70bfc09",
       "version_major": 2,
       "version_minor": 0
      },
      "text/plain": [
       "optimizer.pt:   0%|          | 0.00/16.8M [00:00<?, ?B/s]"
      ]
     },
     "metadata": {},
     "output_type": "display_data"
    },
    {
     "data": {
      "application/vnd.jupyter.widget-view+json": {
       "model_id": "96fad76dcdd74768af7174db6e087e40",
       "version_major": 2,
       "version_minor": 0
      },
      "text/plain": [
       "adapter_model.safetensors:   0%|          | 0.00/8.40M [00:00<?, ?B/s]"
      ]
     },
     "metadata": {},
     "output_type": "display_data"
    },
    {
     "data": {
      "application/vnd.jupyter.widget-view+json": {
       "model_id": "9400573561474cf0a72c9bbc76ecb62d",
       "version_major": 2,
       "version_minor": 0
      },
      "text/plain": [
       "Upload 17 LFS files:   0%|          | 0/17 [00:00<?, ?it/s]"
      ]
     },
     "metadata": {},
     "output_type": "display_data"
    },
    {
     "data": {
      "application/vnd.jupyter.widget-view+json": {
       "model_id": "2522979b541343ca8bf488afd9489cd2",
       "version_major": 2,
       "version_minor": 0
      },
      "text/plain": [
       "training_args.bin:   0%|          | 0.00/4.98k [00:00<?, ?B/s]"
      ]
     },
     "metadata": {},
     "output_type": "display_data"
    },
    {
     "data": {
      "application/vnd.jupyter.widget-view+json": {
       "model_id": "cd50bb54e7c64f83be0ae1962d6203e7",
       "version_major": 2,
       "version_minor": 0
      },
      "text/plain": [
       "adapter_model.safetensors:   0%|          | 0.00/8.40M [00:00<?, ?B/s]"
      ]
     },
     "metadata": {},
     "output_type": "display_data"
    },
    {
     "data": {
      "application/vnd.jupyter.widget-view+json": {
       "model_id": "8e01b33398bd403bb5303be102d7731f",
       "version_major": 2,
       "version_minor": 0
      },
      "text/plain": [
       "optimizer.pt:   0%|          | 0.00/16.8M [00:00<?, ?B/s]"
      ]
     },
     "metadata": {},
     "output_type": "display_data"
    },
    {
     "data": {
      "application/vnd.jupyter.widget-view+json": {
       "model_id": "bfa4a1c882524096a9919a6078f38e7b",
       "version_major": 2,
       "version_minor": 0
      },
      "text/plain": [
       "rng_state.pth:   0%|          | 0.00/14.2k [00:00<?, ?B/s]"
      ]
     },
     "metadata": {},
     "output_type": "display_data"
    },
    {
     "data": {
      "application/vnd.jupyter.widget-view+json": {
       "model_id": "b5e651e1bdc1443b824e7f0c9f172a4a",
       "version_major": 2,
       "version_minor": 0
      },
      "text/plain": [
       "scheduler.pt:   0%|          | 0.00/1.06k [00:00<?, ?B/s]"
      ]
     },
     "metadata": {},
     "output_type": "display_data"
    },
    {
     "data": {
      "application/vnd.jupyter.widget-view+json": {
       "model_id": "4f8f73c50d634f16845a041f7c75da72",
       "version_major": 2,
       "version_minor": 0
      },
      "text/plain": [
       "training_args.bin:   0%|          | 0.00/4.98k [00:00<?, ?B/s]"
      ]
     },
     "metadata": {},
     "output_type": "display_data"
    },
    {
     "data": {
      "application/vnd.jupyter.widget-view+json": {
       "model_id": "c4ec304a0da94a8880ee0acb7dd775b4",
       "version_major": 2,
       "version_minor": 0
      },
      "text/plain": [
       "adapter_model.safetensors:   0%|          | 0.00/8.40M [00:00<?, ?B/s]"
      ]
     },
     "metadata": {},
     "output_type": "display_data"
    },
    {
     "data": {
      "application/vnd.jupyter.widget-view+json": {
       "model_id": "c30206618d1a41b7a0b3672785c4c46a",
       "version_major": 2,
       "version_minor": 0
      },
      "text/plain": [
       "optimizer.pt:   0%|          | 0.00/16.8M [00:00<?, ?B/s]"
      ]
     },
     "metadata": {},
     "output_type": "display_data"
    },
    {
     "data": {
      "application/vnd.jupyter.widget-view+json": {
       "model_id": "e156268da22042509eb4d3afdf9ae709",
       "version_major": 2,
       "version_minor": 0
      },
      "text/plain": [
       "rng_state.pth:   0%|          | 0.00/14.2k [00:00<?, ?B/s]"
      ]
     },
     "metadata": {},
     "output_type": "display_data"
    },
    {
     "data": {
      "application/vnd.jupyter.widget-view+json": {
       "model_id": "5af5eed1bba6458985927b8793707ad0",
       "version_major": 2,
       "version_minor": 0
      },
      "text/plain": [
       "scheduler.pt:   0%|          | 0.00/1.06k [00:00<?, ?B/s]"
      ]
     },
     "metadata": {},
     "output_type": "display_data"
    },
    {
     "data": {
      "application/vnd.jupyter.widget-view+json": {
       "model_id": "bc30da972fd34ae3909ddc1eb9b75d07",
       "version_major": 2,
       "version_minor": 0
      },
      "text/plain": [
       "training_args.bin:   0%|          | 0.00/4.98k [00:00<?, ?B/s]"
      ]
     },
     "metadata": {},
     "output_type": "display_data"
    },
    {
     "data": {
      "application/vnd.jupyter.widget-view+json": {
       "model_id": "ecf1d16bff5d495e94bc240e0c76511b",
       "version_major": 2,
       "version_minor": 0
      },
      "text/plain": [
       "training_args.bin:   0%|          | 0.00/4.98k [00:00<?, ?B/s]"
      ]
     },
     "metadata": {},
     "output_type": "display_data"
    },
    {
     "data": {
      "text/plain": [
       "CommitInfo(commit_url='https://huggingface.co/MAdAiLab/Llama2_Instruction_Finetuning_Experiments/commit/8123f199f3d3356adfdc5bb94a6207e344977bf6', commit_message='Upload folder using huggingface_hub', commit_description='', oid='8123f199f3d3356adfdc5bb94a6207e344977bf6', pr_url=None, pr_revision=None, pr_num=None)"
      ]
     },
     "execution_count": 12,
     "metadata": {},
     "output_type": "execute_result"
    }
   ],
   "source": [
    "upload_folder(\n",
    "    folder_path=\"llama2_7b_base_adapter\",\n",
    "    repo_id=\"MAdAiLab/Llama2_Instruction_Finetuning_Experiments\",\n",
    "    path_in_repo=\"/llama2_7b_base_adapter\"\n",
    "    )"
   ]
  },
  {
   "cell_type": "code",
   "execution_count": null,
   "metadata": {},
   "outputs": [],
   "source": [
    "from huggingface_hub import upload_folder\n",
    "\n",
    "# List of repositories to clone and upload\n",
    "repos_to_clone = [\n",
    "    \"MAdAiLab/llama2_7b_base_adapter\",\n",
    "    \"MAdAiLab/llama2_7b_bf16_adapter\",\n",
    "    \"MAdAiLab/llama2_7b_chat_adapter\",\n",
    "    \"MAdAiLab/llama2_7b_nf4_adapter\",\n",
    "    \"MAdAiLab/llama2_7b_fp4_adapter\",\n",
    "    \"MAdAiLab/llama2_7b_AdamW_Cosine\",\n",
    "    \"MAdAiLab/llama2_7b_SGD_Cosine\",\n",
    "    \"MAdAiLab/llama2_7b_full_qlora\",\n",
    "    \"MAdAiLab/llama2_7b_r16_alpha16\",\n",
    "    \"MAdAiLab/llama2_7b_r16_alpha32\",\n",
    "    \"MAdAiLab/llama2_7b_r32_alpha64\",\n",
    "    \"MAdAiLab/llama2_7b_r128_alpha256\",\n",
    "    \"MAdAiLab/llama2_7b_r256_alpha1024\",\n",
    "    \"MAdAiLab/llama2_7b_lora_r_alpha_16\",\n",
    "    \"MAdAiLab/llama2_7b_lora_r16_alpha32\",\n",
    "    \"MAdAiLab/llama2_7b_r32_alpha1\",\n",
    "    \"MAdAiLab/llama2_7b_r128_alpha1\",\n",
    "    \"MAdAiLab/llama2_7b_r256_alpha256\",\n",
    "]\n",
    "\n",
    "# Consolidated repository details\n",
    "consolidated_repo_id = \"MAdAiLab/Llama2_Instruction_Finetuning_Experiments\"\n",
    "\n",
    "# Clone the repositories and upload to the consolidated repository\n",
    "for repo in repos_to_clone:\n",
    "    !git clone https://huggingface.co/{repo}\n",
    "    folder_name = repo.split(\"/\")[-1]\n",
    "    upload_folder(folder_path=folder_name, repo_id=consolidated_repo_id, path_in_repo=f\"/{folder_name}\")\n",
    "    !rm -rf {folder_name}"
   ]
  },
  {
   "cell_type": "code",
   "execution_count": 6,
   "metadata": {},
   "outputs": [],
   "source": [
    "from huggingface_hub import delete_repo\n",
    "\n",
    "repos_to_delete = [\n",
    "    \"MAdAiLab/llama2_7b_base_adapter\",\n",
    "    \"MAdAiLab/llama2_7b_bf16_adapter\",\n",
    "    \"MAdAiLab/llama2_7b_chat_adapter\",\n",
    "    \"MAdAiLab/llama2_7b_nf4_adapter\",\n",
    "    \"MAdAiLab/llama2_7b_fp4_adapter\",\n",
    "    \"MAdAiLab/llama2_7b_AdamW_Cosine\",\n",
    "    \"MAdAiLab/llama2_7b_SGD_Cosine\",\n",
    "    \"MAdAiLab/llama2_7b_full_qlora\",\n",
    "    \"MAdAiLab/llama2_7b_r16_alpha16\",\n",
    "    \"MAdAiLab/llama2_7b_r16_alpha32\",\n",
    "    \"MAdAiLab/llama2_7b_r32_alpha64\",\n",
    "    \"MAdAiLab/llama2_7b_r128_alpha256\",\n",
    "    \"MAdAiLab/llama2_7b_r256_alpha1024\",\n",
    "    \"MAdAiLab/llama2_7b_lora_r_alpha_16\",\n",
    "    \"MAdAiLab/llama2_7b_lora_r16_alpha32\",\n",
    "    \"MAdAiLab/llama2_7b_r32_alpha1\",\n",
    "    \"MAdAiLab/llama2_7b_r128_alpha1\",\n",
    "    \"MAdAiLab/llama2_7b_r256_alpha256\"\n",
    "]\n",
    "\n",
    "for repo in repos_to_delete:\n",
    "    delete_repo(repo)"
   ]
  },
  {
   "cell_type": "code",
   "execution_count": 7,
   "metadata": {},
   "outputs": [
    {
     "name": "stdout",
     "output_type": "stream",
     "text": [
      "Cloning into 'llama2_7b_base_adapter_merged_final'...\n",
      "remote: Enumerating objects: 22, done.\u001b[K\n",
      "remote: Counting objects: 100% (19/19), done.\u001b[K\n",
      "remote: Compressing objects: 100% (19/19), done.\u001b[K\n",
      "remote: Total 22 (delta 1), reused 0 (delta 0), pack-reused 3\u001b[K\n",
      "Unpacking objects: 100% (22/22), 485.69 KiB | 5.40 MiB/s, done.\n",
      "Filtering content: 100% (6/6), 5.10 GiB | 18.20 MiB/s, done.\n",
      "Encountered 5 file(s) that may not have been copied correctly on Windows:\n",
      "\tmodel-00001-of-00006.safetensors\n",
      "\tmodel-00003-of-00006.safetensors\n",
      "\tmodel-00002-of-00006.safetensors\n",
      "\tmodel-00004-of-00006.safetensors\n",
      "\tmodel-00005-of-00006.safetensors\n",
      "\n",
      "See: `git lfs help smudge` for more details.\n"
     ]
    },
    {
     "data": {
      "application/vnd.jupyter.widget-view+json": {
       "model_id": "13376a93938847c484e9c2e13e1c2519",
       "version_major": 2,
       "version_minor": 0
      },
      "text/plain": [
       "model-00003-of-00006.safetensors:   0%|          | 0.00/4.86G [00:00<?, ?B/s]"
      ]
     },
     "metadata": {},
     "output_type": "display_data"
    },
    {
     "data": {
      "application/vnd.jupyter.widget-view+json": {
       "model_id": "ccf15243327b4e428cc5c1f2cbca1dc6",
       "version_major": 2,
       "version_minor": 0
      },
      "text/plain": [
       "model-00002-of-00006.safetensors:   0%|          | 0.00/4.86G [00:00<?, ?B/s]"
      ]
     },
     "metadata": {},
     "output_type": "display_data"
    },
    {
     "data": {
      "application/vnd.jupyter.widget-view+json": {
       "model_id": "2cad8e1aad974095bcdc763f85743f0b",
       "version_major": 2,
       "version_minor": 0
      },
      "text/plain": [
       "model-00005-of-00006.safetensors:   0%|          | 0.00/4.86G [00:00<?, ?B/s]"
      ]
     },
     "metadata": {},
     "output_type": "display_data"
    },
    {
     "data": {
      "application/vnd.jupyter.widget-view+json": {
       "model_id": "a6df07bb05384e669f13580e77e39a14",
       "version_major": 2,
       "version_minor": 0
      },
      "text/plain": [
       "model-00004-of-00006.safetensors:   0%|          | 0.00/4.86G [00:00<?, ?B/s]"
      ]
     },
     "metadata": {},
     "output_type": "display_data"
    },
    {
     "data": {
      "application/vnd.jupyter.widget-view+json": {
       "model_id": "e8cd9cfcdbc940dab430620fcf11651b",
       "version_major": 2,
       "version_minor": 0
      },
      "text/plain": [
       "model-00001-of-00006.safetensors:   0%|          | 0.00/4.84G [00:00<?, ?B/s]"
      ]
     },
     "metadata": {},
     "output_type": "display_data"
    },
    {
     "data": {
      "application/vnd.jupyter.widget-view+json": {
       "model_id": "5849f1a6ecbb42bda19df94e84299daa",
       "version_major": 2,
       "version_minor": 0
      },
      "text/plain": [
       "Upload 6 LFS files:   0%|          | 0/6 [00:00<?, ?it/s]"
      ]
     },
     "metadata": {},
     "output_type": "display_data"
    },
    {
     "data": {
      "application/vnd.jupyter.widget-view+json": {
       "model_id": "6fa4f8e712b34baeaba184168eb99207",
       "version_major": 2,
       "version_minor": 0
      },
      "text/plain": [
       "model-00006-of-00006.safetensors:   0%|          | 0.00/2.68G [00:00<?, ?B/s]"
      ]
     },
     "metadata": {},
     "output_type": "display_data"
    },
    {
     "name": "stdout",
     "output_type": "stream",
     "text": [
      "Cloning into 'llama2_7b_bf16_adapter_merged_final'...\n",
      "remote: Enumerating objects: 20, done.\u001b[K\n",
      "remote: Counting objects: 100% (17/17), done.\u001b[K\n",
      "remote: Compressing objects: 100% (17/17), done.\u001b[K\n",
      "remote: Total 20 (delta 1), reused 0 (delta 0), pack-reused 3\u001b[K\n",
      "Unpacking objects: 100% (20/20), 484.04 KiB | 5.38 MiB/s, done.\n",
      "Filtering content: 100% (6/6), 5.10 GiB | 17.30 MiB/s, done.\n",
      "Encountered 5 file(s) that may not have been copied correctly on Windows:\n",
      "\tmodel-00001-of-00006.safetensors\n",
      "\tmodel-00002-of-00006.safetensors\n",
      "\tmodel-00003-of-00006.safetensors\n",
      "\tmodel-00004-of-00006.safetensors\n",
      "\tmodel-00005-of-00006.safetensors\n",
      "\n",
      "See: `git lfs help smudge` for more details.\n"
     ]
    },
    {
     "data": {
      "application/vnd.jupyter.widget-view+json": {
       "model_id": "08559411ae1646ffa5160fa128374018",
       "version_major": 2,
       "version_minor": 0
      },
      "text/plain": [
       "model-00003-of-00006.safetensors:   0%|          | 0.00/4.86G [00:00<?, ?B/s]"
      ]
     },
     "metadata": {},
     "output_type": "display_data"
    },
    {
     "data": {
      "application/vnd.jupyter.widget-view+json": {
       "model_id": "580225b212fe41d99a4ce569ef65abb9",
       "version_major": 2,
       "version_minor": 0
      },
      "text/plain": [
       "model-00001-of-00006.safetensors:   0%|          | 0.00/4.84G [00:00<?, ?B/s]"
      ]
     },
     "metadata": {},
     "output_type": "display_data"
    },
    {
     "data": {
      "application/vnd.jupyter.widget-view+json": {
       "model_id": "fa6b38e2434d4d628a04244dbbe0cbdf",
       "version_major": 2,
       "version_minor": 0
      },
      "text/plain": [
       "model-00004-of-00006.safetensors:   0%|          | 0.00/4.86G [00:00<?, ?B/s]"
      ]
     },
     "metadata": {},
     "output_type": "display_data"
    },
    {
     "data": {
      "application/vnd.jupyter.widget-view+json": {
       "model_id": "d0171a8f7bc3454a8b8cd00bc0bdc8d7",
       "version_major": 2,
       "version_minor": 0
      },
      "text/plain": [
       "model-00002-of-00006.safetensors:   0%|          | 0.00/4.86G [00:00<?, ?B/s]"
      ]
     },
     "metadata": {},
     "output_type": "display_data"
    },
    {
     "data": {
      "application/vnd.jupyter.widget-view+json": {
       "model_id": "59ca94912e734a06b0c627095796e74a",
       "version_major": 2,
       "version_minor": 0
      },
      "text/plain": [
       "Upload 6 LFS files:   0%|          | 0/6 [00:00<?, ?it/s]"
      ]
     },
     "metadata": {},
     "output_type": "display_data"
    },
    {
     "data": {
      "application/vnd.jupyter.widget-view+json": {
       "model_id": "20de118364714d46a4d450efe3dfdc45",
       "version_major": 2,
       "version_minor": 0
      },
      "text/plain": [
       "model-00005-of-00006.safetensors:   0%|          | 0.00/4.86G [00:00<?, ?B/s]"
      ]
     },
     "metadata": {},
     "output_type": "display_data"
    },
    {
     "data": {
      "application/vnd.jupyter.widget-view+json": {
       "model_id": "e27b4935cfa64e8a94b86c1f35e021fd",
       "version_major": 2,
       "version_minor": 0
      },
      "text/plain": [
       "model-00006-of-00006.safetensors:   0%|          | 0.00/2.68G [00:00<?, ?B/s]"
      ]
     },
     "metadata": {},
     "output_type": "display_data"
    },
    {
     "name": "stdout",
     "output_type": "stream",
     "text": [
      "Cloning into 'llama2_7b_chat_adapter_merged_final'...\n",
      "remote: Enumerating objects: 20, done.\u001b[K\n",
      "remote: Counting objects: 100% (17/17), done.\u001b[K\n",
      "remote: Compressing objects: 100% (17/17), done.\u001b[K\n",
      "remote: Total 20 (delta 1), reused 0 (delta 0), pack-reused 3\u001b[K\n",
      "Unpacking objects: 100% (20/20), 484.34 KiB | 5.50 MiB/s, done.\n",
      "Filtering content: 100% (6/6), 5.10 GiB | 18.31 MiB/s, done.\n",
      "Encountered 5 file(s) that may not have been copied correctly on Windows:\n",
      "\tmodel-00001-of-00006.safetensors\n",
      "\tmodel-00005-of-00006.safetensors\n",
      "\tmodel-00003-of-00006.safetensors\n",
      "\tmodel-00002-of-00006.safetensors\n",
      "\tmodel-00004-of-00006.safetensors\n",
      "\n",
      "See: `git lfs help smudge` for more details.\n"
     ]
    },
    {
     "data": {
      "application/vnd.jupyter.widget-view+json": {
       "model_id": "0aa44eb0678349d6b95d91150b8148c7",
       "version_major": 2,
       "version_minor": 0
      },
      "text/plain": [
       "model-00002-of-00006.safetensors:   0%|          | 0.00/4.86G [00:00<?, ?B/s]"
      ]
     },
     "metadata": {},
     "output_type": "display_data"
    },
    {
     "data": {
      "application/vnd.jupyter.widget-view+json": {
       "model_id": "9ed0b0c504f149e89c7c7134c36f83e7",
       "version_major": 2,
       "version_minor": 0
      },
      "text/plain": [
       "model-00003-of-00006.safetensors:   0%|          | 0.00/4.86G [00:00<?, ?B/s]"
      ]
     },
     "metadata": {},
     "output_type": "display_data"
    },
    {
     "data": {
      "application/vnd.jupyter.widget-view+json": {
       "model_id": "4e70fa8c971e4dbe9ae940c705305fd8",
       "version_major": 2,
       "version_minor": 0
      },
      "text/plain": [
       "model-00004-of-00006.safetensors:   0%|          | 0.00/4.86G [00:00<?, ?B/s]"
      ]
     },
     "metadata": {},
     "output_type": "display_data"
    },
    {
     "data": {
      "application/vnd.jupyter.widget-view+json": {
       "model_id": "4220d111697f4e21ac1925ec2a56bd04",
       "version_major": 2,
       "version_minor": 0
      },
      "text/plain": [
       "model-00001-of-00006.safetensors:   0%|          | 0.00/4.84G [00:00<?, ?B/s]"
      ]
     },
     "metadata": {},
     "output_type": "display_data"
    },
    {
     "data": {
      "application/vnd.jupyter.widget-view+json": {
       "model_id": "48033773841c4fc2ab55af3c6f0d6fff",
       "version_major": 2,
       "version_minor": 0
      },
      "text/plain": [
       "model-00005-of-00006.safetensors:   0%|          | 0.00/4.86G [00:00<?, ?B/s]"
      ]
     },
     "metadata": {},
     "output_type": "display_data"
    },
    {
     "data": {
      "application/vnd.jupyter.widget-view+json": {
       "model_id": "e0a4493d7be946d0befc5ce15018ccd2",
       "version_major": 2,
       "version_minor": 0
      },
      "text/plain": [
       "Upload 6 LFS files:   0%|          | 0/6 [00:00<?, ?it/s]"
      ]
     },
     "metadata": {},
     "output_type": "display_data"
    },
    {
     "data": {
      "application/vnd.jupyter.widget-view+json": {
       "model_id": "181b26f50b0b40dc9c25cd803ea746b5",
       "version_major": 2,
       "version_minor": 0
      },
      "text/plain": [
       "model-00006-of-00006.safetensors:   0%|          | 0.00/2.68G [00:00<?, ?B/s]"
      ]
     },
     "metadata": {},
     "output_type": "display_data"
    },
    {
     "name": "stdout",
     "output_type": "stream",
     "text": [
      "Cloning into 'llama2_7b_nf4_adapter_merged_final'...\n",
      "remote: Enumerating objects: 14, done.\u001b[K\n",
      "remote: Counting objects: 100% (11/11), done.\u001b[K\n",
      "remote: Compressing objects: 100% (11/11), done.\u001b[K\n",
      "remote: Total 14 (delta 1), reused 0 (delta 0), pack-reused 3\u001b[K\n",
      "Unpacking objects: 100% (14/14), 482.24 KiB | 5.36 MiB/s, done.\n",
      "Encountered 1 file(s) that may not have been copied correctly on Windows:\n",
      "\tmodel.safetensors\n",
      "\n",
      "See: `git lfs help smudge` for more details.\n"
     ]
    },
    {
     "data": {
      "application/vnd.jupyter.widget-view+json": {
       "model_id": "d0df4c8c746741a1b7cbb5f41caf98a2",
       "version_major": 2,
       "version_minor": 0
      },
      "text/plain": [
       "model.safetensors:   0%|          | 0.00/4.17G [00:00<?, ?B/s]"
      ]
     },
     "metadata": {},
     "output_type": "display_data"
    },
    {
     "name": "stdout",
     "output_type": "stream",
     "text": [
      "Cloning into 'llama2_7b_fp4_adapter_merged_final'...\n",
      "remote: Enumerating objects: 14, done.\u001b[K\n",
      "remote: Counting objects: 100% (11/11), done.\u001b[K\n",
      "remote: Compressing objects: 100% (11/11), done.\u001b[K\n",
      "remote: Total 14 (delta 1), reused 0 (delta 0), pack-reused 3\u001b[K\n",
      "Unpacking objects: 100% (14/14), 482.24 KiB | 5.36 MiB/s, done.\n",
      "Encountered 1 file(s) that may not have been copied correctly on Windows:\n",
      "\tmodel.safetensors\n",
      "\n",
      "See: `git lfs help smudge` for more details.\n"
     ]
    },
    {
     "data": {
      "application/vnd.jupyter.widget-view+json": {
       "model_id": "5bdc3407394d4973bed6838432aee020",
       "version_major": 2,
       "version_minor": 0
      },
      "text/plain": [
       "model.safetensors:   0%|          | 0.00/4.17G [00:00<?, ?B/s]"
      ]
     },
     "metadata": {},
     "output_type": "display_data"
    },
    {
     "name": "stdout",
     "output_type": "stream",
     "text": [
      "Cloning into 'llama2_7b_AdamW_Cosine_merged_final'...\n",
      "remote: Enumerating objects: 14, done.\u001b[K\n",
      "remote: Counting objects: 100% (11/11), done.\u001b[K\n",
      "remote: Compressing objects: 100% (11/11), done.\u001b[K\n",
      "remote: Total 14 (delta 1), reused 0 (delta 0), pack-reused 3\u001b[K\n",
      "Unpacking objects: 100% (14/14), 482.24 KiB | 5.42 MiB/s, done.\n",
      "Encountered 1 file(s) that may not have been copied correctly on Windows:\n",
      "\tmodel.safetensors\n",
      "\n",
      "See: `git lfs help smudge` for more details.\n"
     ]
    },
    {
     "data": {
      "application/vnd.jupyter.widget-view+json": {
       "model_id": "6a85a3531d6e4daaaa8290d46b6e1e0a",
       "version_major": 2,
       "version_minor": 0
      },
      "text/plain": [
       "model.safetensors:   0%|          | 0.00/4.17G [00:00<?, ?B/s]"
      ]
     },
     "metadata": {},
     "output_type": "display_data"
    },
    {
     "name": "stdout",
     "output_type": "stream",
     "text": [
      "Cloning into 'llama2_7b_SGD_Cosine_merged_final'...\n",
      "remote: Enumerating objects: 14, done.\u001b[K\n",
      "remote: Counting objects: 100% (11/11), done.\u001b[K\n",
      "remote: Compressing objects: 100% (11/11), done.\u001b[K\n",
      "remote: Total 14 (delta 1), reused 0 (delta 0), pack-reused 3\u001b[K\n",
      "Unpacking objects: 100% (14/14), 482.24 KiB | 3.63 MiB/s, done.\n",
      "Encountered 1 file(s) that may not have been copied correctly on Windows:\n",
      "\tmodel.safetensors\n",
      "\n",
      "See: `git lfs help smudge` for more details.\n"
     ]
    },
    {
     "data": {
      "application/vnd.jupyter.widget-view+json": {
       "model_id": "c0b3425d300447c0985ef93f7bd2ec80",
       "version_major": 2,
       "version_minor": 0
      },
      "text/plain": [
       "model.safetensors:   0%|          | 0.00/4.17G [00:00<?, ?B/s]"
      ]
     },
     "metadata": {},
     "output_type": "display_data"
    },
    {
     "name": "stdout",
     "output_type": "stream",
     "text": [
      "Cloning into 'llama2_7b_r32_alpha64_merged_final'...\n",
      "remote: Enumerating objects: 14, done.\u001b[K\n",
      "remote: Counting objects: 100% (11/11), done.\u001b[K\n",
      "remote: Compressing objects: 100% (11/11), done.\u001b[K\n",
      "remote: Total 14 (delta 1), reused 0 (delta 0), pack-reused 3\u001b[K\n",
      "Unpacking objects: 100% (14/14), 482.23 KiB | 8.93 MiB/s, done.\n",
      "Encountered 1 file(s) that may not have been copied correctly on Windows:\n",
      "\tmodel.safetensors\n",
      "\n",
      "See: `git lfs help smudge` for more details.\n"
     ]
    },
    {
     "data": {
      "application/vnd.jupyter.widget-view+json": {
       "model_id": "308e56e9fdf14768b99b6c9b1f815ad3",
       "version_major": 2,
       "version_minor": 0
      },
      "text/plain": [
       "model.safetensors:   0%|          | 0.00/4.17G [00:00<?, ?B/s]"
      ]
     },
     "metadata": {},
     "output_type": "display_data"
    },
    {
     "name": "stdout",
     "output_type": "stream",
     "text": [
      "Cloning into 'llama2_7b_r16_alpha16_merged_final'...\n",
      "remote: Enumerating objects: 14, done.\u001b[K\n",
      "remote: Counting objects: 100% (11/11), done.\u001b[K\n",
      "remote: Compressing objects: 100% (11/11), done.\u001b[K\n",
      "remote: Total 14 (delta 1), reused 0 (delta 0), pack-reused 3\u001b[K\n",
      "Unpacking objects: 100% (14/14), 482.24 KiB | 2.65 MiB/s, done.\n",
      "Encountered 1 file(s) that may not have been copied correctly on Windows:\n",
      "\tmodel.safetensors\n",
      "\n",
      "See: `git lfs help smudge` for more details.\n"
     ]
    },
    {
     "data": {
      "application/vnd.jupyter.widget-view+json": {
       "model_id": "2ba1c4f64e004d12b0f51829c4aabc39",
       "version_major": 2,
       "version_minor": 0
      },
      "text/plain": [
       "model.safetensors:   0%|          | 0.00/4.17G [00:00<?, ?B/s]"
      ]
     },
     "metadata": {},
     "output_type": "display_data"
    },
    {
     "name": "stdout",
     "output_type": "stream",
     "text": [
      "Cloning into 'llama2_7b_r16_alpha32_merged_final'...\n",
      "remote: Enumerating objects: 14, done.\u001b[K\n",
      "remote: Counting objects: 100% (11/11), done.\u001b[K\n",
      "remote: Compressing objects: 100% (11/11), done.\u001b[K\n",
      "remote: Total 14 (delta 1), reused 0 (delta 0), pack-reused 3\u001b[K\n",
      "Unpacking objects: 100% (14/14), 482.23 KiB | 5.24 MiB/s, done.\n",
      "Encountered 1 file(s) that may not have been copied correctly on Windows:\n",
      "\tmodel.safetensors\n",
      "\n",
      "See: `git lfs help smudge` for more details.\n"
     ]
    },
    {
     "data": {
      "application/vnd.jupyter.widget-view+json": {
       "model_id": "f45df501bd4942b49509a5fe15d4a959",
       "version_major": 2,
       "version_minor": 0
      },
      "text/plain": [
       "model.safetensors:   0%|          | 0.00/4.17G [00:00<?, ?B/s]"
      ]
     },
     "metadata": {},
     "output_type": "display_data"
    },
    {
     "name": "stdout",
     "output_type": "stream",
     "text": [
      "Cloning into 'llama2_7b_full_qlora_merged_final'...\n",
      "remote: Enumerating objects: 14, done.\u001b[K\n",
      "remote: Counting objects: 100% (11/11), done.\u001b[K\n",
      "remote: Compressing objects: 100% (11/11), done.\u001b[K\n",
      "remote: Total 14 (delta 1), reused 0 (delta 0), pack-reused 3\u001b[K\n",
      "Unpacking objects: 100% (14/14), 482.24 KiB | 9.10 MiB/s, done.\n",
      "Encountered 1 file(s) that may not have been copied correctly on Windows:\n",
      "\tmodel.safetensors\n",
      "\n",
      "See: `git lfs help smudge` for more details.\n"
     ]
    },
    {
     "data": {
      "application/vnd.jupyter.widget-view+json": {
       "model_id": "aa158c1e6e6e4ebe9379ed503d0fe042",
       "version_major": 2,
       "version_minor": 0
      },
      "text/plain": [
       "model.safetensors:   0%|          | 0.00/4.17G [00:00<?, ?B/s]"
      ]
     },
     "metadata": {},
     "output_type": "display_data"
    },
    {
     "name": "stdout",
     "output_type": "stream",
     "text": [
      "Cloning into 'llama2_7b_r128_alpha256_merged_final'...\n",
      "remote: Enumerating objects: 14, done.\u001b[K\n",
      "remote: Counting objects: 100% (11/11), done.\u001b[K\n",
      "remote: Compressing objects: 100% (11/11), done.\u001b[K\n",
      "remote: Total 14 (delta 1), reused 0 (delta 0), pack-reused 3\u001b[K\n",
      "Unpacking objects: 100% (14/14), 482.24 KiB | 5.30 MiB/s, done.\n",
      "Encountered 1 file(s) that may not have been copied correctly on Windows:\n",
      "\tmodel.safetensors\n",
      "\n",
      "See: `git lfs help smudge` for more details.\n"
     ]
    },
    {
     "data": {
      "application/vnd.jupyter.widget-view+json": {
       "model_id": "360ab82c1f2a4056ac34f949e3c13f2d",
       "version_major": 2,
       "version_minor": 0
      },
      "text/plain": [
       "model.safetensors:   0%|          | 0.00/4.17G [00:00<?, ?B/s]"
      ]
     },
     "metadata": {},
     "output_type": "display_data"
    },
    {
     "name": "stdout",
     "output_type": "stream",
     "text": [
      "Cloning into 'llama2_7b_r256_alpha1024_merged_final'...\n",
      "remote: Enumerating objects: 14, done.\u001b[K\n",
      "remote: Counting objects: 100% (11/11), done.\u001b[K\n",
      "remote: Compressing objects: 100% (11/11), done.\u001b[K\n",
      "remote: Total 14 (delta 1), reused 0 (delta 0), pack-reused 3\u001b[K\n",
      "Unpacking objects: 100% (14/14), 482.23 KiB | 5.24 MiB/s, done.\n",
      "Encountered 1 file(s) that may not have been copied correctly on Windows:\n",
      "\tmodel.safetensors\n",
      "\n",
      "See: `git lfs help smudge` for more details.\n"
     ]
    },
    {
     "data": {
      "application/vnd.jupyter.widget-view+json": {
       "model_id": "3163b5fd7abf48ae9952bea037dd78d8",
       "version_major": 2,
       "version_minor": 0
      },
      "text/plain": [
       "model.safetensors:   0%|          | 0.00/4.17G [00:00<?, ?B/s]"
      ]
     },
     "metadata": {},
     "output_type": "display_data"
    },
    {
     "name": "stdout",
     "output_type": "stream",
     "text": [
      "Cloning into 'llama2_7b_lora_r_alpha_16_merged_final'...\n",
      "remote: Enumerating objects: 22, done.\u001b[K\n",
      "remote: Counting objects: 100% (19/19), done.\u001b[K\n",
      "remote: Compressing objects: 100% (19/19), done.\u001b[K\n",
      "remote: Total 22 (delta 1), reused 0 (delta 0), pack-reused 3\u001b[K\n",
      "Unpacking objects: 100% (22/22), 485.70 KiB | 8.83 MiB/s, done.\n",
      "Filtering content: 100% (6/6), 5.10 GiB | 17.19 MiB/s, done.\n",
      "Encountered 5 file(s) that may not have been copied correctly on Windows:\n",
      "\tmodel-00001-of-00006.safetensors\n",
      "\tmodel-00003-of-00006.safetensors\n",
      "\tmodel-00005-of-00006.safetensors\n",
      "\tmodel-00002-of-00006.safetensors\n",
      "\tmodel-00004-of-00006.safetensors\n",
      "\n",
      "See: `git lfs help smudge` for more details.\n"
     ]
    },
    {
     "data": {
      "application/vnd.jupyter.widget-view+json": {
       "model_id": "33d84cce44284bf1a3ac5c43d7490817",
       "version_major": 2,
       "version_minor": 0
      },
      "text/plain": [
       "model-00002-of-00006.safetensors:   0%|          | 0.00/4.86G [00:00<?, ?B/s]"
      ]
     },
     "metadata": {},
     "output_type": "display_data"
    },
    {
     "data": {
      "application/vnd.jupyter.widget-view+json": {
       "model_id": "7ade31fc732f468f8b66f6de58d635bb",
       "version_major": 2,
       "version_minor": 0
      },
      "text/plain": [
       "model-00004-of-00006.safetensors:   0%|          | 0.00/4.86G [00:00<?, ?B/s]"
      ]
     },
     "metadata": {},
     "output_type": "display_data"
    },
    {
     "data": {
      "application/vnd.jupyter.widget-view+json": {
       "model_id": "7591b845b63f45f495d795ffd3a46d7a",
       "version_major": 2,
       "version_minor": 0
      },
      "text/plain": [
       "model-00005-of-00006.safetensors:   0%|          | 0.00/4.86G [00:00<?, ?B/s]"
      ]
     },
     "metadata": {},
     "output_type": "display_data"
    },
    {
     "data": {
      "application/vnd.jupyter.widget-view+json": {
       "model_id": "93a5eae52fc04c5d9c9bbebc3191824b",
       "version_major": 2,
       "version_minor": 0
      },
      "text/plain": [
       "model-00001-of-00006.safetensors:   0%|          | 0.00/4.84G [00:00<?, ?B/s]"
      ]
     },
     "metadata": {},
     "output_type": "display_data"
    },
    {
     "data": {
      "application/vnd.jupyter.widget-view+json": {
       "model_id": "3f92af74daa84dfc8795fd1674f2b9d7",
       "version_major": 2,
       "version_minor": 0
      },
      "text/plain": [
       "model-00003-of-00006.safetensors:   0%|          | 0.00/4.86G [00:00<?, ?B/s]"
      ]
     },
     "metadata": {},
     "output_type": "display_data"
    },
    {
     "data": {
      "application/vnd.jupyter.widget-view+json": {
       "model_id": "93eca16352da44e99ca96d1a8f973d0e",
       "version_major": 2,
       "version_minor": 0
      },
      "text/plain": [
       "Upload 6 LFS files:   0%|          | 0/6 [00:00<?, ?it/s]"
      ]
     },
     "metadata": {},
     "output_type": "display_data"
    },
    {
     "data": {
      "application/vnd.jupyter.widget-view+json": {
       "model_id": "efd1172ebb8d48908fe6d61bfed2fbe7",
       "version_major": 2,
       "version_minor": 0
      },
      "text/plain": [
       "model-00006-of-00006.safetensors:   0%|          | 0.00/2.68G [00:00<?, ?B/s]"
      ]
     },
     "metadata": {},
     "output_type": "display_data"
    },
    {
     "name": "stdout",
     "output_type": "stream",
     "text": [
      "Cloning into 'llama2_7b_lora_r16_alpha32_merged_final'...\n",
      "remote: Enumerating objects: 20, done.\u001b[K\n",
      "remote: Counting objects: 100% (17/17), done.\u001b[K\n",
      "remote: Compressing objects: 100% (17/17), done.\u001b[K\n",
      "remote: Total 20 (delta 1), reused 0 (delta 0), pack-reused 3\u001b[K\n",
      "Unpacking objects: 100% (20/20), 484.04 KiB | 5.50 MiB/s, done.\n",
      "Filtering content: 100% (6/6), 5.10 GiB | 17.40 MiB/s, done.\n",
      "Encountered 5 file(s) that may not have been copied correctly on Windows:\n",
      "\tmodel-00002-of-00006.safetensors\n",
      "\tmodel-00004-of-00006.safetensors\n",
      "\tmodel-00003-of-00006.safetensors\n",
      "\tmodel-00001-of-00006.safetensors\n",
      "\tmodel-00005-of-00006.safetensors\n",
      "\n",
      "See: `git lfs help smudge` for more details.\n"
     ]
    },
    {
     "data": {
      "application/vnd.jupyter.widget-view+json": {
       "model_id": "bad5c079e49c4ac08e9d0626a5f3d3f4",
       "version_major": 2,
       "version_minor": 0
      },
      "text/plain": [
       "model-00003-of-00006.safetensors:   0%|          | 0.00/4.86G [00:00<?, ?B/s]"
      ]
     },
     "metadata": {},
     "output_type": "display_data"
    },
    {
     "data": {
      "application/vnd.jupyter.widget-view+json": {
       "model_id": "e04b6bc1739d479cabab61b2c7325dd6",
       "version_major": 2,
       "version_minor": 0
      },
      "text/plain": [
       "Upload 6 LFS files:   0%|          | 0/6 [00:00<?, ?it/s]"
      ]
     },
     "metadata": {},
     "output_type": "display_data"
    },
    {
     "data": {
      "application/vnd.jupyter.widget-view+json": {
       "model_id": "17b523069f4243eab775bee078f9136c",
       "version_major": 2,
       "version_minor": 0
      },
      "text/plain": [
       "model-00002-of-00006.safetensors:   0%|          | 0.00/4.86G [00:00<?, ?B/s]"
      ]
     },
     "metadata": {},
     "output_type": "display_data"
    },
    {
     "data": {
      "application/vnd.jupyter.widget-view+json": {
       "model_id": "04a9690710934666b0e26b599ee58315",
       "version_major": 2,
       "version_minor": 0
      },
      "text/plain": [
       "model-00001-of-00006.safetensors:   0%|          | 0.00/4.84G [00:00<?, ?B/s]"
      ]
     },
     "metadata": {},
     "output_type": "display_data"
    },
    {
     "data": {
      "application/vnd.jupyter.widget-view+json": {
       "model_id": "d7152259c6b74c69afe869141e95d31c",
       "version_major": 2,
       "version_minor": 0
      },
      "text/plain": [
       "model-00004-of-00006.safetensors:   0%|          | 0.00/4.86G [00:00<?, ?B/s]"
      ]
     },
     "metadata": {},
     "output_type": "display_data"
    },
    {
     "data": {
      "application/vnd.jupyter.widget-view+json": {
       "model_id": "081c273aa19742f79b8427915f70eca8",
       "version_major": 2,
       "version_minor": 0
      },
      "text/plain": [
       "model-00005-of-00006.safetensors:   0%|          | 0.00/4.86G [00:00<?, ?B/s]"
      ]
     },
     "metadata": {},
     "output_type": "display_data"
    },
    {
     "data": {
      "application/vnd.jupyter.widget-view+json": {
       "model_id": "80bd1c55d85b45898158bc1ef4b0556c",
       "version_major": 2,
       "version_minor": 0
      },
      "text/plain": [
       "model-00006-of-00006.safetensors:   0%|          | 0.00/2.68G [00:00<?, ?B/s]"
      ]
     },
     "metadata": {},
     "output_type": "display_data"
    },
    {
     "name": "stdout",
     "output_type": "stream",
     "text": [
      "Cloning into 'llama2_7b_r128_alpha1_merged_final'...\n",
      "remote: Enumerating objects: 14, done.\u001b[K\n",
      "remote: Counting objects: 100% (11/11), done.\u001b[K\n",
      "remote: Compressing objects: 100% (11/11), done.\u001b[K\n",
      "remote: Total 14 (delta 1), reused 0 (delta 0), pack-reused 3\u001b[K\n",
      "Unpacking objects: 100% (14/14), 482.24 KiB | 5.36 MiB/s, done.\n",
      "Encountered 1 file(s) that may not have been copied correctly on Windows:\n",
      "\tmodel.safetensors\n",
      "\n",
      "See: `git lfs help smudge` for more details.\n"
     ]
    },
    {
     "data": {
      "application/vnd.jupyter.widget-view+json": {
       "model_id": "515094948f704d8ca56fe752441e9e02",
       "version_major": 2,
       "version_minor": 0
      },
      "text/plain": [
       "model.safetensors:   0%|          | 0.00/4.17G [00:00<?, ?B/s]"
      ]
     },
     "metadata": {},
     "output_type": "display_data"
    },
    {
     "name": "stdout",
     "output_type": "stream",
     "text": [
      "Cloning into 'llama2_7b_r256_alpha256_merged_final'...\n",
      "remote: Enumerating objects: 14, done.\u001b[K\n",
      "remote: Counting objects: 100% (11/11), done.\u001b[K\n",
      "remote: Compressing objects: 100% (11/11), done.\u001b[K\n",
      "remote: Total 14 (delta 1), reused 0 (delta 0), pack-reused 3\u001b[K\n",
      "Unpacking objects: 100% (14/14), 482.23 KiB | 5.24 MiB/s, done.\n",
      "Encountered 1 file(s) that may not have been copied correctly on Windows:\n",
      "\tmodel.safetensors\n",
      "\n",
      "See: `git lfs help smudge` for more details.\n"
     ]
    },
    {
     "data": {
      "application/vnd.jupyter.widget-view+json": {
       "model_id": "61db14054189420e88959b7c41518184",
       "version_major": 2,
       "version_minor": 0
      },
      "text/plain": [
       "model.safetensors:   0%|          | 0.00/4.17G [00:00<?, ?B/s]"
      ]
     },
     "metadata": {},
     "output_type": "display_data"
    },
    {
     "name": "stdout",
     "output_type": "stream",
     "text": [
      "Cloning into 'llama2_7b_r32_alpha1_merged_final'...\n",
      "remote: Enumerating objects: 14, done.\u001b[K\n",
      "remote: Counting objects: 100% (11/11), done.\u001b[K\n",
      "remote: Compressing objects: 100% (11/11), done.\u001b[K\n",
      "remote: Total 14 (delta 1), reused 0 (delta 0), pack-reused 3\u001b[K\n",
      "Unpacking objects: 100% (14/14), 482.24 KiB | 5.42 MiB/s, done.\n",
      "Encountered 1 file(s) that may not have been copied correctly on Windows:\n",
      "\tmodel.safetensors\n",
      "\n",
      "See: `git lfs help smudge` for more details.\n"
     ]
    },
    {
     "data": {
      "application/vnd.jupyter.widget-view+json": {
       "model_id": "00437afb592d4874a5664f6e0dbdef0c",
       "version_major": 2,
       "version_minor": 0
      },
      "text/plain": [
       "model.safetensors:   0%|          | 0.00/4.17G [00:00<?, ?B/s]"
      ]
     },
     "metadata": {},
     "output_type": "display_data"
    }
   ],
   "source": [
    "from huggingface_hub import upload_folder\n",
    "\n",
    "# Consolidated repository details\n",
    "consolidated_repo_id = \"MAdAiLab/Llama2_Instruction_Finetuning_Experiments\"\n",
    "\n",
    "# List of repositories to clone and upload\n",
    "repos_to_clone = [\n",
    "    \"MAdAiLab/llama2_7b_base_adapter_merged_final\",\n",
    "    \"MAdAiLab/llama2_7b_bf16_adapter_merged_final\",\n",
    "    \"MAdAiLab/llama2_7b_chat_adapter_merged_final\",\n",
    "    \"MAdAiLab/llama2_7b_nf4_adapter_merged_final\",\n",
    "    \"MAdAiLab/llama2_7b_fp4_adapter_merged_final\",\n",
    "    \"MAdAiLab/llama2_7b_AdamW_Cosine_merged_final\",\n",
    "    \"MAdAiLab/llama2_7b_SGD_Cosine_merged_final\",\n",
    "    \"MAdAiLab/llama2_7b_r32_alpha64_merged_final\",\n",
    "    \"MAdAiLab/llama2_7b_r16_alpha16_merged_final\",\n",
    "    \"MAdAiLab/llama2_7b_r16_alpha32_merged_final\",\n",
    "    \"MAdAiLab/llama2_7b_full_qlora_merged_final\",\n",
    "    \"MAdAiLab/llama2_7b_r128_alpha256_merged_final\",\n",
    "    \"MAdAiLab/llama2_7b_r256_alpha1024_merged_final\",\n",
    "    \"MAdAiLab/llama2_7b_lora_r_alpha_16_merged_final\",\n",
    "    \"MAdAiLab/llama2_7b_lora_r16_alpha32_merged_final\",\n",
    "    \"MAdAiLab/llama2_7b_r128_alpha1_merged_final\",\n",
    "    \"MAdAiLab/llama2_7b_r256_alpha256_merged_final\",\n",
    "    \"MAdAiLab/llama2_7b_r32_alpha1_merged_final\"\n",
    "]\n",
    "\n",
    "# Clone the repositories and upload to the consolidated repository\n",
    "for repo in repos_to_clone:\n",
    "    !git clone https://huggingface.co/{repo}\n",
    "    folder_name = repo.split(\"/\")[-1]\n",
    "    upload_folder(folder_path=folder_name, repo_id=consolidated_repo_id, path_in_repo=\"/merged_models/\" + folder_name)\n",
    "    !rm -rf {folder_name}"
   ]
  },
  {
   "cell_type": "code",
   "execution_count": null,
   "metadata": {},
   "outputs": [],
   "source": []
  }
 ],
 "metadata": {
  "kernelspec": {
   "display_name": "venv",
   "language": "python",
   "name": "python3"
  },
  "language_info": {
   "codemirror_mode": {
    "name": "ipython",
    "version": 3
   },
   "file_extension": ".py",
   "mimetype": "text/x-python",
   "name": "python",
   "nbconvert_exporter": "python",
   "pygments_lexer": "ipython3",
   "version": "3.10.12"
  }
 },
 "nbformat": 4,
 "nbformat_minor": 2
}
