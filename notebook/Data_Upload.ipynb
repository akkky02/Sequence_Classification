{
 "cells": [
  {
   "cell_type": "code",
   "execution_count": 1,
   "metadata": {},
   "outputs": [],
   "source": [
    "import os\n",
    "from huggingface_hub import upload_folder,create_repo\n",
    "from dotenv import load_dotenv, find_dotenv\n",
    "load_dotenv(find_dotenv())\n",
    "\n",
    "HF_TOKEN = os.getenv(\"HF_TOKEN\")"
   ]
  },
  {
   "cell_type": "code",
   "execution_count": null,
   "metadata": {},
   "outputs": [],
   "source": [
    "create_repo(\n",
    "    repo_id=\"MAdAiLab/SLM_vs_LLM_experiments\",\n",
    ")"
   ]
  },
  {
   "cell_type": "code",
   "execution_count": null,
   "metadata": {},
   "outputs": [],
   "source": [
    "upload_folder(\n",
    "    folder_path=\"../experiments_checkpoints/MAdAiLab\",\n",
    "    repo_id=\"MAdAiLab/SLM_vs_LLM_experiments\",\n",
    "    path_in_repo=\"/max_seq_length_512_experiments\"\n",
    "    )"
   ]
  },
  {
   "cell_type": "code",
   "execution_count": null,
   "metadata": {},
   "outputs": [],
   "source": [
    "upload_folder(\n",
    "    folder_path=\"../experiments_checkpoints/MAdAiLab/Qwen/Qwen1.5_1.8B_ledgar\",\n",
    "    repo_id=\"MAdAiLab/SLM_vs_LLM_experiments\",\n",
    "    path_in_repo=\"/Qwen/Qwen1.5_1.8B_ledgar\"\n",
    "    )"
   ]
  },
  {
   "cell_type": "code",
   "execution_count": null,
   "metadata": {},
   "outputs": [],
   "source": [
    "upload_folder(\n",
    "    folder_path=\"../experiments_checkpoints/MAdAiLab/google\",\n",
    "    repo_id=\"MAdAiLab/SLM_vs_LLM_experiments\",\n",
    "    path_in_repo=\"/google\"\n",
    "    )"
   ]
  }
 ],
 "metadata": {
  "kernelspec": {
   "display_name": "venv",
   "language": "python",
   "name": "python3"
  },
  "language_info": {
   "codemirror_mode": {
    "name": "ipython",
    "version": 3
   },
   "file_extension": ".py",
   "mimetype": "text/x-python",
   "name": "python",
   "nbconvert_exporter": "python",
   "pygments_lexer": "ipython3",
   "version": "3.10.12"
  }
 },
 "nbformat": 4,
 "nbformat_minor": 2
}
